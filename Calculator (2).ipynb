{
 "cells": [
  {
   "cell_type": "code",
   "execution_count": 5,
   "id": "d72c3793",
   "metadata": {},
   "outputs": [],
   "source": [
    "# Program make a simple calculator"
   ]
  },
  {
   "cell_type": "code",
   "execution_count": 6,
   "id": "6a24dd7f",
   "metadata": {},
   "outputs": [],
   "source": [
    "# This function adds two numbers\n",
    "def add(x, y):\n",
    "    return x + y"
   ]
  },
  {
   "cell_type": "code",
   "execution_count": 7,
   "id": "297350b2",
   "metadata": {},
   "outputs": [],
   "source": [
    "# This function subtracts two numbers\n",
    "def subtract(x, y):\n",
    "    return x - y"
   ]
  },
  {
   "cell_type": "code",
   "execution_count": 8,
   "id": "46e29a54",
   "metadata": {},
   "outputs": [],
   "source": [
    "# This function multiplies two numbers\n",
    "def multiply(x, y):\n",
    "    return x * y"
   ]
  },
  {
   "cell_type": "code",
   "execution_count": 9,
   "id": "2a5c6856",
   "metadata": {},
   "outputs": [],
   "source": [
    "# This function divides two numbers\n",
    "def divide(x, y):\n",
    "    return x / y"
   ]
  },
  {
   "cell_type": "code",
   "execution_count": 10,
   "id": "28417e20",
   "metadata": {},
   "outputs": [
    {
     "name": "stdout",
     "output_type": "stream",
     "text": [
      "Select operation.\n"
     ]
    }
   ],
   "source": [
    "print(\"Select operation.\")"
   ]
  },
  {
   "cell_type": "code",
   "execution_count": 11,
   "id": "6a7b7129",
   "metadata": {},
   "outputs": [
    {
     "name": "stdout",
     "output_type": "stream",
     "text": [
      "1.Add\n"
     ]
    }
   ],
   "source": [
    "print(\"1.Add\")"
   ]
  },
  {
   "cell_type": "code",
   "execution_count": 12,
   "id": "0db138bb",
   "metadata": {},
   "outputs": [
    {
     "name": "stdout",
     "output_type": "stream",
     "text": [
      "2.Subtract\n"
     ]
    }
   ],
   "source": [
    "print(\"2.Subtract\")"
   ]
  },
  {
   "cell_type": "code",
   "execution_count": 13,
   "id": "addbbca9",
   "metadata": {},
   "outputs": [
    {
     "name": "stdout",
     "output_type": "stream",
     "text": [
      "3.Multiply\n"
     ]
    }
   ],
   "source": [
    "print(\"3.Multiply\")"
   ]
  },
  {
   "cell_type": "code",
   "execution_count": 14,
   "id": "1b4dc3aa",
   "metadata": {},
   "outputs": [
    {
     "name": "stdout",
     "output_type": "stream",
     "text": [
      "4.Divide\n"
     ]
    }
   ],
   "source": [
    "print(\"4.Divide\")"
   ]
  },
  {
   "cell_type": "code",
   "execution_count": null,
   "id": "c321f245",
   "metadata": {},
   "outputs": [
    {
     "name": "stdout",
     "output_type": "stream",
     "text": [
      "Enter choice(1/2/3/4): 3\n",
      "Enter first number: 5\n",
      "Enter second number: 5\n",
      "5.0 * 5.0 = 25.0\n",
      "Let's do next calculation? (yes/no): Yes\n",
      "Enter choice(1/2/3/4): 4\n",
      "Enter first number: 46364\n",
      "Enter second number: 45\n",
      "46364.0 / 45.0 = 1030.3111111111111\n"
     ]
    }
   ],
   "source": [
    "while True:\n",
    "    # take input from the user\n",
    "    choice = input(\"Enter choice(1/2/3/4): \")\n",
    "\n",
    "    # check if choice is one of the four options\n",
    "    if choice in ('1', '2', '3', '4'):\n",
    "        num1 = float(input(\"Enter first number: \"))\n",
    "        num2 = float(input(\"Enter second number: \"))\n",
    "\n",
    "        if choice == '1':\n",
    "            print(num1, \"+\", num2, \"=\", add(num1, num2))\n",
    "\n",
    "        elif choice == '2':\n",
    "            print(num1, \"-\", num2, \"=\", subtract(num1, num2))\n",
    "\n",
    "        elif choice == '3':\n",
    "            print(num1, \"*\", num2, \"=\", multiply(num1, num2))\n",
    "\n",
    "        elif choice == '4':\n",
    "            print(num1, \"/\", num2, \"=\", divide(num1, num2))\n",
    "        \n",
    "        # check if user wants another calculation\n",
    "        # break the while loop if answer is no\n",
    "        next_calculation = input(\"Let's do next calculation? (yes/no): \")\n",
    "        if next_calculation == \"no\":\n",
    "          break\n",
    "    \n",
    "    else:\n",
    "        print(\"Invalid Input\")"
   ]
  },
  {
   "cell_type": "code",
   "execution_count": null,
   "id": "05a65447",
   "metadata": {},
   "outputs": [],
   "source": []
  },
  {
   "cell_type": "code",
   "execution_count": null,
   "id": "0f8278f1",
   "metadata": {},
   "outputs": [],
   "source": []
  },
  {
   "cell_type": "code",
   "execution_count": null,
   "id": "4baa0eba",
   "metadata": {},
   "outputs": [],
   "source": []
  }
 ],
 "metadata": {
  "kernelspec": {
   "display_name": "Python 3 (ipykernel)",
   "language": "python",
   "name": "python3"
  },
  "language_info": {
   "codemirror_mode": {
    "name": "ipython",
    "version": 3
   },
   "file_extension": ".py",
   "mimetype": "text/x-python",
   "name": "python",
   "nbconvert_exporter": "python",
   "pygments_lexer": "ipython3",
   "version": "3.9.7"
  }
 },
 "nbformat": 4,
 "nbformat_minor": 5
}
